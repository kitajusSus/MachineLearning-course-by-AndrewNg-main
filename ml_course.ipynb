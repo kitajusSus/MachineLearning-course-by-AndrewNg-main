{
 "cells": [
  {
   "cell_type": "code",
   "execution_count": 2,
   "metadata": {},
   "outputs": [
    {
     "name": "stdout",
     "output_type": "stream",
     "text": [
      "hello world\n"
     ]
    },
    {
     "data": {
      "text/plain": [
       "'\\nthis is a code cell when we put code\\n'"
      ]
     },
     "execution_count": 2,
     "metadata": {},
     "output_type": "execute_result"
    }
   ],
   "source": [
    "print(\"hello world\") \n",
    "'''\n",
    "this is a code cell when we put code\n",
    "'''"
   ]
  },
  {
   "cell_type": "markdown",
   "id": "7ca6400a",
   "metadata": {},
   "source": [
    "markdown block/cell where is just a text \n",
    "\n",
    "You can use shift + enter. This will change the cell type in to nicely formated text"
   ]
  },
  {
   "cell_type": "code",
   "execution_count": 3,
   "id": "f1f875a9",
   "metadata": {},
   "outputs": [
    {
     "name": "stdout",
     "output_type": "stream",
     "text": [
      "THIS IS MY : hello world program, its called banger\n"
     ]
    }
   ],
   "source": [
    "#check this out... a string in python \n",
    "# CLICK SHIFT ENTER TO USE THIS CELL \n",
    "string = 'hello world'\n",
    "print(f'THIS IS MY : {string} program, its called banger')\n"
   ]
  },
  {
   "cell_type": "markdown",
   "id": "3a079e12",
   "metadata": {},
   "source": [
    "Andrew said that is all i need to know about jupyter  for now."
   ]
  },
  {
   "cell_type": "markdown",
   "id": "0f549515",
   "metadata": {},
   "source": []
  }
 ],
 "metadata": {
  "kernelspec": {
   "display_name": "my-conda-env",
   "language": "python",
   "name": "python3"
  },
  "language_info": {
   "codemirror_mode": {
    "name": "ipython",
    "version": 3
   },
   "file_extension": ".py",
   "mimetype": "text/x-python",
   "name": "python",
   "nbconvert_exporter": "python",
   "pygments_lexer": "ipython3",
   "version": "3.12.4"
  }
 },
 "nbformat": 4,
 "nbformat_minor": 5
}
